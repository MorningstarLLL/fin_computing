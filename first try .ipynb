{
 "cells": [
  {
   "cell_type": "code",
   "execution_count": 1,
   "metadata": {},
   "outputs": [
    {
     "name": "stdout",
     "output_type": "stream",
     "text": [
      "15\n"
     ]
    }
   ],
   "source": [
    "x = 5\n",
    "y = 10\n",
    "print(x + y)"
   ]
  },
  {
   "cell_type": "markdown",
   "metadata": {},
   "source": [
    "# hello, jupyter book!\n",
    "## where are you guys?\n",
    "### I'm Jeff.\n",
    "#### press Y under command mode to switch to markdown and M to switch back :D"
   ]
  },
  {
   "cell_type": "markdown",
   "metadata": {},
   "source": [
    "\n",
    "# Strings in Python"
   ]
  },
  {
   "cell_type": "code",
   "execution_count": 15,
   "metadata": {},
   "outputs": [
    {
     "name": "stdout",
     "output_type": "stream",
     "text": [
      "w\n",
      "what'\n",
      ".\n",
      "what's your name? Morningstar\n",
      "r name? Morningstar.\n"
     ]
    }
   ],
   "source": [
    "st = \"what's your name? Morningstar.\"\n",
    "print(st[0])\n",
    "print(st[0:5])\n",
    "print(st[-1])\n",
    "print(st[:-1])\n",
    "print(st[10:])"
   ]
  },
  {
   "cell_type": "code",
   "execution_count": 17,
   "metadata": {},
   "outputs": [
    {
     "name": "stdout",
     "output_type": "stream",
     "text": [
      "my age is 15\n",
      "what's your name? Morningstar.my age is 15\n"
     ]
    }
   ],
   "source": [
    "a = x + y\n",
    "print(\"my age is \" + str(a))\n",
    "st1 = \"my age is \" + str(a)\n",
    "test = st + st1\n",
    "print(test)"
   ]
  },
  {
   "cell_type": "code",
   "execution_count": 19,
   "metadata": {},
   "outputs": [
    {
     "data": {
      "text/plain": [
       "{'__name__': '__main__',\n",
       " '__doc__': 'Automatically created module for IPython interactive environment',\n",
       " '__package__': None,\n",
       " '__loader__': None,\n",
       " '__spec__': None,\n",
       " '__builtin__': <module 'builtins' (built-in)>,\n",
       " '__builtins__': <module 'builtins' (built-in)>,\n",
       " '_ih': ['',\n",
       "  'x = 5\\ny = 10\\nprint(x + y)',\n",
       "  'str = \"what\\'s your name? Morningstar.\"\\nstr[0]\\nstr[0:5]\\nstr[-1]',\n",
       "  'str = \"what\\'s your name? Morningstar.\"\\nstr[0]\\nstr[0:5]\\nstr[-1]',\n",
       "  'str = \"what\\'s your name? Morningstar.\"\\nprint(str[0])\\nprint(str[0:5])\\nprint(str[-1])',\n",
       "  'str = \"what\\'s your name? Morningstar.\"\\nprint(str[0])\\nprint(str[0:5])\\nprint(str[-1])\\nprint(str[:-1])',\n",
       "  'str = \"what\\'s your name? Morningstar.\"\\nprint(str[0])\\nprint(str[0:5])\\nprint(str[-1])\\nprint(str[:-1])\\nprint(str[10:])',\n",
       "  'str = \"what\\'s your name? Morningstar.\"\\nprint(str[0])\\nprint(str[0:5])\\nprint(str[-1])\\nprint(str[:-1])\\nprint(str[10:])\\ndel(str)',\n",
       "  'str',\n",
       "  'x + y',\n",
       "  'a = x + y\\nprint(\"my age is \" + str(a))',\n",
       "  'st = \"what\\'s your name? Morningstar.\"\\nprint(str[0])\\nprint(str[0:5])\\nprint(str[-1])\\nprint(str[:-1])\\nprint(str[10:])\\ndel(str)',\n",
       "  'st = \"what\\'s your name? Morningstar.\"\\nprint(st[0])\\nprint(st[0:5])\\nprint(st[-1])\\nprint(st[:-1])\\nprint(st[10:])',\n",
       "  'a = x + y\\nprint(\"my age is \" + str(a))\\nst1 = \"my age is \" + str(a)\\ntest = st + st1',\n",
       "  'a = x + y\\nprint(\"my age is \" + str(a))\\nst1 = \"my age is \" + str(a)\\ntest = st + st1',\n",
       "  'st = \"what\\'s your name? Morningstar.\"\\nprint(st[0])\\nprint(st[0:5])\\nprint(st[-1])\\nprint(st[:-1])\\nprint(st[10:])',\n",
       "  'a = x + y\\nprint(\"my age is \" + str(a))\\nst1 = \"my age is \" + str(a)\\ntest = st + st1',\n",
       "  'a = x + y\\nprint(\"my age is \" + str(a))\\nst1 = \"my age is \" + str(a)\\ntest = st + st1\\nprint(test)',\n",
       "  'local()',\n",
       "  'locals()'],\n",
       " '_oh': {2: '.', 3: '.', 8: str, 9: 15},\n",
       " '_dh': ['C:\\\\Users\\\\JF LIU\\\\Desktop\\\\JHU\\\\financial computing'],\n",
       " 'In': ['',\n",
       "  'x = 5\\ny = 10\\nprint(x + y)',\n",
       "  'str = \"what\\'s your name? Morningstar.\"\\nstr[0]\\nstr[0:5]\\nstr[-1]',\n",
       "  'str = \"what\\'s your name? Morningstar.\"\\nstr[0]\\nstr[0:5]\\nstr[-1]',\n",
       "  'str = \"what\\'s your name? Morningstar.\"\\nprint(str[0])\\nprint(str[0:5])\\nprint(str[-1])',\n",
       "  'str = \"what\\'s your name? Morningstar.\"\\nprint(str[0])\\nprint(str[0:5])\\nprint(str[-1])\\nprint(str[:-1])',\n",
       "  'str = \"what\\'s your name? Morningstar.\"\\nprint(str[0])\\nprint(str[0:5])\\nprint(str[-1])\\nprint(str[:-1])\\nprint(str[10:])',\n",
       "  'str = \"what\\'s your name? Morningstar.\"\\nprint(str[0])\\nprint(str[0:5])\\nprint(str[-1])\\nprint(str[:-1])\\nprint(str[10:])\\ndel(str)',\n",
       "  'str',\n",
       "  'x + y',\n",
       "  'a = x + y\\nprint(\"my age is \" + str(a))',\n",
       "  'st = \"what\\'s your name? Morningstar.\"\\nprint(str[0])\\nprint(str[0:5])\\nprint(str[-1])\\nprint(str[:-1])\\nprint(str[10:])\\ndel(str)',\n",
       "  'st = \"what\\'s your name? Morningstar.\"\\nprint(st[0])\\nprint(st[0:5])\\nprint(st[-1])\\nprint(st[:-1])\\nprint(st[10:])',\n",
       "  'a = x + y\\nprint(\"my age is \" + str(a))\\nst1 = \"my age is \" + str(a)\\ntest = st + st1',\n",
       "  'a = x + y\\nprint(\"my age is \" + str(a))\\nst1 = \"my age is \" + str(a)\\ntest = st + st1',\n",
       "  'st = \"what\\'s your name? Morningstar.\"\\nprint(st[0])\\nprint(st[0:5])\\nprint(st[-1])\\nprint(st[:-1])\\nprint(st[10:])',\n",
       "  'a = x + y\\nprint(\"my age is \" + str(a))\\nst1 = \"my age is \" + str(a)\\ntest = st + st1',\n",
       "  'a = x + y\\nprint(\"my age is \" + str(a))\\nst1 = \"my age is \" + str(a)\\ntest = st + st1\\nprint(test)',\n",
       "  'local()',\n",
       "  'locals()'],\n",
       " 'Out': {2: '.', 3: '.', 8: str, 9: 15},\n",
       " 'get_ipython': <bound method InteractiveShell.get_ipython of <ipykernel.zmqshell.ZMQInteractiveShell object at 0x00000266C8AA2C48>>,\n",
       " 'exit': <IPython.core.autocall.ZMQExitAutocall at 0x266c8abb8c8>,\n",
       " 'quit': <IPython.core.autocall.ZMQExitAutocall at 0x266c8abb8c8>,\n",
       " '_': 15,\n",
       " '__': str,\n",
       " '___': '.',\n",
       " '_i': 'local()',\n",
       " '_ii': 'a = x + y\\nprint(\"my age is \" + str(a))\\nst1 = \"my age is \" + str(a)\\ntest = st + st1\\nprint(test)',\n",
       " '_iii': 'a = x + y\\nprint(\"my age is \" + str(a))\\nst1 = \"my age is \" + str(a)\\ntest = st + st1',\n",
       " '_i1': 'x = 5\\ny = 10\\nprint(x + y)',\n",
       " 'x': 5,\n",
       " 'y': 10,\n",
       " '_i2': 'str = \"what\\'s your name? Morningstar.\"\\nstr[0]\\nstr[0:5]\\nstr[-1]',\n",
       " '_2': '.',\n",
       " '_i3': 'str = \"what\\'s your name? Morningstar.\"\\nstr[0]\\nstr[0:5]\\nstr[-1]',\n",
       " '_3': '.',\n",
       " '_i4': 'str = \"what\\'s your name? Morningstar.\"\\nprint(str[0])\\nprint(str[0:5])\\nprint(str[-1])',\n",
       " '_i5': 'str = \"what\\'s your name? Morningstar.\"\\nprint(str[0])\\nprint(str[0:5])\\nprint(str[-1])\\nprint(str[:-1])',\n",
       " '_i6': 'str = \"what\\'s your name? Morningstar.\"\\nprint(str[0])\\nprint(str[0:5])\\nprint(str[-1])\\nprint(str[:-1])\\nprint(str[10:])',\n",
       " '_i7': 'str = \"what\\'s your name? Morningstar.\"\\nprint(str[0])\\nprint(str[0:5])\\nprint(str[-1])\\nprint(str[:-1])\\nprint(str[10:])\\ndel(str)',\n",
       " '_i8': 'str',\n",
       " '_8': str,\n",
       " '_i9': 'x + y',\n",
       " '_9': 15,\n",
       " '_i10': 'a = x + y\\nprint(\"my age is \" + str(a))',\n",
       " 'a': 15,\n",
       " '_i11': 'st = \"what\\'s your name? Morningstar.\"\\nprint(str[0])\\nprint(str[0:5])\\nprint(str[-1])\\nprint(str[:-1])\\nprint(str[10:])\\ndel(str)',\n",
       " 'st': \"what's your name? Morningstar.\",\n",
       " '_i12': 'st = \"what\\'s your name? Morningstar.\"\\nprint(st[0])\\nprint(st[0:5])\\nprint(st[-1])\\nprint(st[:-1])\\nprint(st[10:])',\n",
       " '_i13': 'a = x + y\\nprint(\"my age is \" + str(a))\\nst1 = \"my age is \" + str(a)\\ntest = st + st1',\n",
       " 'st1': 'my age is 15',\n",
       " 'test': \"what's your name? Morningstar.my age is 15\",\n",
       " '_i14': 'a = x + y\\nprint(\"my age is \" + str(a))\\nst1 = \"my age is \" + str(a)\\ntest = st + st1',\n",
       " '_i15': 'st = \"what\\'s your name? Morningstar.\"\\nprint(st[0])\\nprint(st[0:5])\\nprint(st[-1])\\nprint(st[:-1])\\nprint(st[10:])',\n",
       " '_i16': 'a = x + y\\nprint(\"my age is \" + str(a))\\nst1 = \"my age is \" + str(a)\\ntest = st + st1',\n",
       " '_i17': 'a = x + y\\nprint(\"my age is \" + str(a))\\nst1 = \"my age is \" + str(a)\\ntest = st + st1\\nprint(test)',\n",
       " '_i18': 'local()',\n",
       " '_i19': 'locals()'}"
      ]
     },
     "execution_count": 19,
     "metadata": {},
     "output_type": "execute_result"
    }
   ],
   "source": [
    "locals()"
   ]
  },
  {
   "cell_type": "code",
   "execution_count": 22,
   "metadata": {},
   "outputs": [
    {
     "name": "stdout",
     "output_type": "stream",
     "text": [
      "__main__\n"
     ]
    }
   ],
   "source": [
    "print(__name__)"
   ]
  },
  {
   "cell_type": "markdown",
   "metadata": {},
   "source": [
    "# Lists"
   ]
  },
  {
   "cell_type": "code",
   "execution_count": null,
   "metadata": {},
   "outputs": [],
   "source": []
  }
 ],
 "metadata": {
  "kernelspec": {
   "display_name": "Python 3",
   "language": "python",
   "name": "python3"
  },
  "language_info": {
   "codemirror_mode": {
    "name": "ipython",
    "version": 3
   },
   "file_extension": ".py",
   "mimetype": "text/x-python",
   "name": "python",
   "nbconvert_exporter": "python",
   "pygments_lexer": "ipython3",
   "version": "3.7.4"
  }
 },
 "nbformat": 4,
 "nbformat_minor": 2
}
