{
 "cells": [
  {
   "cell_type": "code",
   "execution_count": 1,
   "metadata": {},
   "outputs": [
    {
     "name": "stdout",
     "output_type": "stream",
     "text": [
      "estimated mean of Y = 6.98046\n",
      "estimated var of Y = 3.2039981883999995\n",
      "estimated mean of Y = 7.2506\n",
      "estimated var of Y = 3.834259639999999\n"
     ]
    }
   ],
   "source": [
    "import numpy as np\n",
    "def longest_run(L):\n",
    "    max_run = 0\n",
    "    runlength = 1\n",
    "    for i in range(1,len(L)):\n",
    "        if L[i] == L[i-1]:\n",
    "            runlength = runlength + 1\n",
    "        else:\n",
    "            if runlength > max_run:\n",
    "                max_run = runlength\n",
    "            runlength = 1\n",
    "    if runlength > max_run:\n",
    "        max_run = runlength\n",
    "    return(max_run)\n",
    "def mc_longestrun(N, p):\n",
    "    \"\"\"\n",
    "    this function is to use MC methods to estimate EY and varY\n",
    "    Y is the longest run of 100 xi\n",
    "    xi ~ Bernoulli(p)\n",
    "    N is number of trials\n",
    "    \"\"\"\n",
    "    Y_value = []\n",
    "    for i in range(0,N):\n",
    "        X = list(np.random.choice(2,100,p=[p,1-p]))\n",
    "        y = longest_run(X)\n",
    "        Y_value.append(y)\n",
    "    np.array(Y_value)\n",
    "    EY = np.mean(Y_value)\n",
    "    varY = np.var(Y_value)\n",
    "    print('estimated mean of Y = '+str(EY))\n",
    "    print('estimated var of Y = '+str(varY))\n",
    "mc_longestrun(100000, .5)\n",
    "mc_longestrun(100000, .55)"
   ]
  },
  {
   "cell_type": "code",
   "execution_count": 7,
   "metadata": {},
   "outputs": [
    {
     "name": "stdout",
     "output_type": "stream",
     "text": [
      "The following is an example:\n",
      "the list is \n",
      "[1, 1, 0, 0, 1, 1, 1, 1, 1, 0, 1, 1, 0, 0, 0, 1, 1, 1, 1, 1]\n",
      "the new list of runlengths is \n"
     ]
    },
    {
     "data": {
      "text/plain": [
       "[2, 2, 5, 1, 2, 3, 5]"
      ]
     },
     "execution_count": 7,
     "metadata": {},
     "output_type": "execute_result"
    }
   ],
   "source": [
    "#problem 2\n",
    "import numpy as np\n",
    "def runlengths(L):\n",
    "    runlength = 1\n",
    "    list_of_runlength = []\n",
    "    for i in range(1,len(L)):\n",
    "        if L[i] == L[i-1]:\n",
    "            runlength = runlength + 1\n",
    "        else:\n",
    "            list_of_runlength.append(runlength)\n",
    "            runlength = 1\n",
    "    list_of_runlength.append(runlength)\n",
    "    return(list_of_runlength)\n",
    "\n",
    "print(\"The following is an example:\")\n",
    "print(\"the list is \")\n",
    "L = list(np.random.choice(2,20))\n",
    "print(L)\n",
    "print(\"the new list of runlengths is \")\n",
    "runlengths(L) "
   ]
  },
  {
   "cell_type": "code",
   "execution_count": 8,
   "metadata": {},
   "outputs": [
    {
     "data": {
      "text/plain": [
       "'P(least three runs of length 6 occur) = 0.03533'"
      ]
     },
     "execution_count": 8,
     "metadata": {},
     "output_type": "execute_result"
    }
   ],
   "source": [
    "#problem 3\n",
    "import numpy as np\n",
    "def probability_Y():\n",
    "    Y_value = []\n",
    "    N = 100000\n",
    "    for i in range(N):\n",
    "        X = np.random.choice(2,100,p=[.5,.5])\n",
    "        run_lengths = runlengths(X)\n",
    "        if run_lengths.count(6) >= 3:\n",
    "            Y_value.append(1)\n",
    "        else:\n",
    "            Y_value.append(0)\n",
    "    np.array(Y_value)\n",
    "    return(\"P(least three runs of length 6 occur) = \"+str(np.mean(Y_value)))\n",
    "    \n",
    "probability_Y()            "
   ]
  }
 ],
 "metadata": {
  "kernelspec": {
   "display_name": "Python 3",
   "language": "python",
   "name": "python3"
  },
  "language_info": {
   "codemirror_mode": {
    "name": "ipython",
    "version": 3
   },
   "file_extension": ".py",
   "mimetype": "text/x-python",
   "name": "python",
   "nbconvert_exporter": "python",
   "pygments_lexer": "ipython3",
   "version": "3.7.4"
  }
 },
 "nbformat": 4,
 "nbformat_minor": 2
}
